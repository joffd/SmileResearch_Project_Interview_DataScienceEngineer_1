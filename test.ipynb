{
  "cells": [
    {
      "cell_type": "markdown",
      "metadata": {},
      "source": [
        "# Test\n",
        "\n",
        "### Julien Pelegri (@algoquant on TG)"
      ]
    },
    {
      "cell_type": "markdown",
      "metadata": {},
      "source": [
        "#### Libs"
      ]
    },
    {
      "cell_type": "code",
      "execution_count": 1,
      "metadata": {
        "dotnet_interactive": {
          "language": "csharp"
        }
      },
      "source": [
        "import pandas as pd\n",
        "import numpy as np\n",
        "import matplotlib.pyplot as plt\n",
        "from datetime import datetime"
      ],
      "outputs": [
        {
          "output_type": "execute_result",
          "data": {
            "text/plain": "(1,15): error CS1002: ; expected\r\n(1,15): error CS1525: Invalid expression term 'as'\r\n(1,20): error CS1002: ; expected\r\n(2,14): error CS1002: ; expected\r\n(2,14): error CS1525: Invalid expression term 'as'\r\n(2,19): error CS1002: ; expected\r\n(3,26): error CS1003: Syntax error, '(' expected\r\n(3,26): error CS1041: Identifier expected; 'as' is a keyword\r\n(4,6): error CS1003: Syntax error, ',' expected\r\n(4,22): error CS1003: Syntax error, ',' expected\r\n(4,30): error CS1001: Identifier expected\r\n(4,30): error CS1026: ) expected\r\n(4,30): error CS1002: ; expected"
          },
          "execution_count": 1,
          "metadata": {}
        }
      ]
    },
    {
      "cell_type": "code",
      "execution_count": 1,
      "metadata": {
        "dotnet_interactive": {
          "language": "csharp"
        }
      },
      "source": [
        "#!ls -l\n",
        "\n",
        "# To run it put the .xlsx "
      ],
      "outputs": []
    },
    {
      "cell_type": "code",
      "execution_count": 1,
      "metadata": {
        "dotnet_interactive": {
          "language": "csharp"
        }
      },
      "source": [
        "data = pd.read_excel('btc-perp.xlsx', sheet_name='in')\n",
        "data.head()"
      ],
      "outputs": [
        {
          "output_type": "execute_result",
          "data": {
            "text/html": [
              "<div>\n",
              "<style scoped>\n",
              "    .dataframe tbody tr th:only-of-type {\n",
              "        vertical-align: middle;\n",
              "    }\n",
              "\n",
              "    .dataframe tbody tr th {\n",
              "        vertical-align: top;\n",
              "    }\n",
              "\n",
              "    .dataframe thead th {\n",
              "        text-align: right;\n",
              "    }\n",
              "</style>\n",
              "<table border=\"1\" class=\"dataframe\">\n",
              "  <thead>\n",
              "    <tr style=\"text-align: right;\">\n",
              "      <th></th>\n",
              "      <th>UtcUnixTimeInMilliSeconds</th>\n",
              "      <th>Close</th>\n",
              "      <th>Volume</th>\n",
              "    </tr>\n",
              "  </thead>\n",
              "  <tbody>\n",
              "    <tr>\n",
              "      <th>0</th>\n",
              "      <td>1605250800000</td>\n",
              "      <td>16325.5</td>\n",
              "      <td>16.371507</td>\n",
              "    </tr>\n",
              "    <tr>\n",
              "      <th>1</th>\n",
              "      <td>1605250860000</td>\n",
              "      <td>16325.0</td>\n",
              "      <td>1.078070</td>\n",
              "    </tr>\n",
              "    <tr>\n",
              "      <th>2</th>\n",
              "      <td>1605250920000</td>\n",
              "      <td>16328.5</td>\n",
              "      <td>27.859270</td>\n",
              "    </tr>\n",
              "    <tr>\n",
              "      <th>3</th>\n",
              "      <td>1605250980000</td>\n",
              "      <td>16323.0</td>\n",
              "      <td>2.309463</td>\n",
              "    </tr>\n",
              "    <tr>\n",
              "      <th>4</th>\n",
              "      <td>1605251040000</td>\n",
              "      <td>16322.0</td>\n",
              "      <td>2.565759</td>\n",
              "    </tr>\n",
              "  </tbody>\n",
              "</table>\n",
              "</div>"
            ],
            "text/plain": [
              "   UtcUnixTimeInMilliSeconds    Close     Volume\n",
              "0              1605250800000  16325.5  16.371507\n",
              "1              1605250860000  16325.0   1.078070\n",
              "2              1605250920000  16328.5  27.859270\n",
              "3              1605250980000  16323.0   2.309463\n",
              "4              1605251040000  16322.0   2.565759"
            ]
          },
          "execution_count": 1,
          "metadata": {}
        }
      ]
    },
    {
      "cell_type": "markdown",
      "metadata": {},
      "source": [
        "### Time processing"
      ]
    },
    {
      "cell_type": "markdown",
      "metadata": {},
      "source": [
        "#### I don't like this 'UtcUnixTimeInMilliSeconds' : let's convert it to something more readable "
      ]
    },
    {
      "cell_type": "code",
      "execution_count": 1,
      "metadata": {
        "dotnet_interactive": {
          "language": "csharp"
        }
      },
      "source": [
        "data['UtcUnixTime'] = data['UtcUnixTimeInMilliSeconds']/1000\n",
        "\n",
        "time = []\n",
        "for i in range(len(data.Close)): \n",
        "    \n",
        "    time.append(datetime.utcfromtimestamp(data.UtcUnixTime[i]).strftime('%Y-%m-%d %H:%M:%S'))\n",
        "    \n",
        "data['time'] = time\n",
        "data.head(2)"
      ],
      "outputs": [
        {
          "output_type": "execute_result",
          "data": {
            "text/html": [
              "<div>\n",
              "<style scoped>\n",
              "    .dataframe tbody tr th:only-of-type {\n",
              "        vertical-align: middle;\n",
              "    }\n",
              "\n",
              "    .dataframe tbody tr th {\n",
              "        vertical-align: top;\n",
              "    }\n",
              "\n",
              "    .dataframe thead th {\n",
              "        text-align: right;\n",
              "    }\n",
              "</style>\n",
              "<table border=\"1\" class=\"dataframe\">\n",
              "  <thead>\n",
              "    <tr style=\"text-align: right;\">\n",
              "      <th></th>\n",
              "      <th>UtcUnixTimeInMilliSeconds</th>\n",
              "      <th>Close</th>\n",
              "      <th>Volume</th>\n",
              "      <th>UtcUnixTime</th>\n",
              "      <th>time</th>\n",
              "    </tr>\n",
              "  </thead>\n",
              "  <tbody>\n",
              "    <tr>\n",
              "      <th>0</th>\n",
              "      <td>1605250800000</td>\n",
              "      <td>16325.5</td>\n",
              "      <td>16.371507</td>\n",
              "      <td>1.605251e+09</td>\n",
              "      <td>2020-11-13 07:00:00</td>\n",
              "    </tr>\n",
              "    <tr>\n",
              "      <th>1</th>\n",
              "      <td>1605250860000</td>\n",
              "      <td>16325.0</td>\n",
              "      <td>1.078070</td>\n",
              "      <td>1.605251e+09</td>\n",
              "      <td>2020-11-13 07:01:00</td>\n",
              "    </tr>\n",
              "  </tbody>\n",
              "</table>\n",
              "</div>"
            ],
            "text/plain": [
              "   UtcUnixTimeInMilliSeconds    Close     Volume   UtcUnixTime  \\\n",
              "0              1605250800000  16325.5  16.371507  1.605251e+09   \n",
              "1              1605250860000  16325.0   1.078070  1.605251e+09   \n",
              "\n",
              "                  time  \n",
              "0  2020-11-13 07:00:00  \n",
              "1  2020-11-13 07:01:00  "
            ]
          },
          "execution_count": 1,
          "metadata": {}
        }
      ]
    },
    {
      "cell_type": "code",
      "execution_count": 1,
      "metadata": {
        "dotnet_interactive": {
          "language": "csharp"
        }
      },
      "source": [
        "data['step'] = [i for i in range(len(data.Close))]\n",
        "\n",
        "data.shape"
      ],
      "outputs": [
        {
          "output_type": "execute_result",
          "data": {
            "text/plain": [
              "(129361, 6)"
            ]
          },
          "execution_count": 1,
          "metadata": {}
        }
      ]
    },
    {
      "cell_type": "markdown",
      "metadata": {},
      "source": [
        "I don't konw much on options so I am doing some researchs..."
      ]
    },
    {
      "cell_type": "markdown",
      "metadata": {},
      "source": [
        "## Some plotting"
      ]
    },
    {
      "cell_type": "code",
      "execution_count": 1,
      "metadata": {
        "dotnet_interactive": {
          "language": "csharp"
        }
      },
      "source": [
        "## 20 period moving average on 15m candle\n",
        "data['EMA'] = pd.to_numeric(data[\"Close\"], downcast=\"float\").ewm(span=20*60*15,adjust=False).mean()\n",
        "data['SMA'] = pd.to_numeric(data[\"Close\"], downcast=\"float\").rolling(window=20*60*15).mean()"
      ],
      "outputs": []
    },
    {
      "cell_type": "code",
      "execution_count": 1,
      "metadata": {
        "dotnet_interactive": {
          "language": "csharp"
        }
      },
      "source": [
        "plt.figure(figsize=(12.5, 4.5))\n",
        "plt.plot(data[\"step\"], data['Close'], label='Close', linewidth=1.5)\n",
        "plt.plot(data[\"step\"], data['SMA'], label='SMA', linewidth=1.5)\n",
        "plt.plot(data[\"step\"], data['EMA'], label='EMA', linewidth=1.5)\n",
        "\n",
        "plt.title(\"BTC 1m close price\")\n",
        "plt.xlabel('Step')\n",
        "plt.ylabel('Price $')\n",
        "plt.legend(loc = 'upper left')\n",
        "plt.show()"
      ],
      "outputs": [
        {
          "output_type": "execute_result",
          "data": {
            "image/png": "[encoded data removed]",
            "text/plain": [
              "<Figure size 900x324 with 1 Axes>"
            ]
          },
          "execution_count": 1,
          "metadata": {}
        }
      ]
    },
    {
      "cell_type": "code",
      "execution_count": 1,
      "metadata": {
        "dotnet_interactive": {
          "language": "csharp"
        }
      },
      "source": [
        "plt.figure(figsize=(12.5, 4.5))\n",
        "plt.plot(data[\"step\"], data['Volume'], label='Close', linewidth=1.5)\n",
        "\n",
        "plt.title(\"BTC 1m volume\")\n",
        "plt.xlabel('Step')\n",
        "plt.ylabel('Volume')\n",
        "plt.legend(loc = 'upper left')\n",
        "plt.show()"
      ],
      "outputs": [
        {
          "output_type": "execute_result",
          "data": {
            "image/png": "[encoded data removed]",
            "text/plain": [
              "<Figure size 900x324 with 1 Axes>"
            ]
          },
          "execution_count": 1,
          "metadata": {}
        }
      ]
    },
    {
      "cell_type": "markdown",
      "metadata": {},
      "source": [
        "## The PNL \n",
        "\n",
        " - Formula : P&L1->2 = 50 * $Γ * (ΔS / S1)^2 where ΔS = S2 – S1\n",
        "    - Plus some conditions (easy to understand)\n",
        "    \n",
        "&nbsp;\n",
        "\n",
        " - So : constant * another fixed constant * ((delta price between two steps)/ Price step 1)^^2)\n",
        " \n",
        "&nbsp;\n",
        "\n",
        " - $Γ / $Θ / number of days for maturity: are three parameters\n",
        " \n",
        "&nbsp;\n",
        "\n",
        " - Every seems clear to me except two points : \n",
        "    - the maturity concept : \n",
        "    ** Final Payoff: Sum of P&Li->j minus (Nb of days to maturity x $Θ)**\n",
        "    \n",
        "    - reset at any time, by default it is 1m but could it be 5m ? i don't think it's a parameter seems to be fixed at 1m"
      ]
    },
    {
      "cell_type": "markdown",
      "metadata": {},
      "source": [
        "## Compute P&L i-> j (step of 1m)"
      ]
    },
    {
      "cell_type": "markdown",
      "metadata": {},
      "source": [
        "#### Thought ? When a day reset h = 0 , m = 0 , s = 0 --> compute the pseudo maturation"
      ]
    },
    {
      "cell_type": "code",
      "execution_count": 1,
      "metadata": {
        "dotnet_interactive": {
          "language": "csharp"
        }
      },
      "source": [
        "print(data.time[49980][11:], data.time[49980][11:] == '00:00:00')"
      ],
      "outputs": [
        {
          "output_type": "stream",
          "name": "stdout",
          "text": "00:00:00 True"
        }
      ]
    },
    {
      "cell_type": "code",
      "execution_count": 1,
      "metadata": {
        "dotnet_interactive": {
          "language": "csharp"
        }
      },
      "source": [
        "def PNL(data, gamma, theta):\n",
        "    '''\n",
        "    data : the data of close for each 1m candle\n",
        "    gamma : given by the exercise (don't know the scale)\n",
        "    theta : given by the exercise (don't know the scale)\n",
        "    days_to_maturity : in days\n",
        "    \n",
        "    explanation : I decided to reset the S(i) value each 1m (logic to be according to the test)\n",
        "    '''\n",
        "    \n",
        "    n = len(data.Close)\n",
        "    \n",
        "    # attributing first value to nan to dump it latter on\n",
        "    pnl = [float(\"NaN\")]\n",
        "    \n",
        "    for i in range(n-1):\n",
        "        \n",
        "        # if we are at the beginning of the day we  have to pay a fee \n",
        "        if (data.time[i+1][11:] == '00:00:00'):\n",
        "            pnl.append(50*gamma*((data['Close'][i+1]-data['Close'][i])/data['Close'][i]) - theta)\n",
        "        else:\n",
        "            pnl.append(50*gamma*(((data['Close'][i+1]-data['Close'][i])/data['Close'][i]))**2)\n",
        "            \n",
        "            \n",
        "    data['PNL'] = pnl\n",
        "    return(data)"
      ],
      "outputs": []
    },
    {
      "cell_type": "code",
      "execution_count": 1,
      "metadata": {
        "dotnet_interactive": {
          "language": "csharp"
        }
      },
      "source": [
        "## Compute with specific value for the test since I have no idea of the kind of values it might be \n",
        "\n",
        "gamma = 1825000\n",
        "theta = -250000\n",
        "days_to_maturity = 30\n",
        "data = data\n",
        "\n",
        "data_PNL = PNL(data, gamma, theta)"
      ],
      "outputs": []
    },
    {
      "cell_type": "code",
      "execution_count": 1,
      "metadata": {
        "dotnet_interactive": {
          "language": "csharp"
        }
      },
      "source": [
        "plt.figure(figsize=(12.5, 4.5))\n",
        "plt.plot(data_PNL[\"step\"], data_PNL['PNL'], label='Close', linewidth=1.5)\n",
        "\n",
        "plt.title(\"PNL 1m step\")\n",
        "plt.xlabel('Step')\n",
        "plt.ylabel('PNL')\n",
        "plt.legend(loc = 'upper left')\n",
        "plt.show()"
      ],
      "outputs": [
        {
          "output_type": "execute_result",
          "data": {
            "image/png": "[encoded data removed]",
            "text/plain": [
              "<Figure size 900x324 with 1 Axes>"
            ]
          },
          "execution_count": 1,
          "metadata": {}
        }
      ]
    },
    {
      "cell_type": "markdown",
      "metadata": {},
      "source": [
        "#### This graph seems ok (distribution)"
      ]
    },
    {
      "cell_type": "markdown",
      "metadata": {},
      "source": [
        "## Sum of cumulative PNL i->j"
      ]
    },
    {
      "cell_type": "code",
      "execution_count": 1,
      "metadata": {
        "dotnet_interactive": {
          "language": "csharp"
        }
      },
      "source": [
        "## dropping the first nan value\n",
        "data_PNL.dropna(inplace=True)\n",
        "data_PNL.reset_index(inplace=True)\n",
        "data_PNL.tail()"
      ],
      "outputs": [
        {
          "output_type": "execute_result",
          "data": {
            "text/html": [
              "<div>\n",
              "<style scoped>\n",
              "    .dataframe tbody tr th:only-of-type {\n",
              "        vertical-align: middle;\n",
              "    }\n",
              "\n",
              "    .dataframe tbody tr th {\n",
              "        vertical-align: top;\n",
              "    }\n",
              "\n",
              "    .dataframe thead th {\n",
              "        text-align: right;\n",
              "    }\n",
              "</style>\n",
              "<table border=\"1\" class=\"dataframe\">\n",
              "  <thead>\n",
              "    <tr style=\"text-align: right;\">\n",
              "      <th></th>\n",
              "      <th>index</th>\n",
              "      <th>UtcUnixTimeInMilliSeconds</th>\n",
              "      <th>Close</th>\n",
              "      <th>Volume</th>\n",
              "      <th>UtcUnixTime</th>\n",
              "      <th>time</th>\n",
              "      <th>step</th>\n",
              "      <th>EMA</th>\n",
              "      <th>SMA</th>\n",
              "      <th>PNL</th>\n",
              "    </tr>\n",
              "  </thead>\n",
              "  <tbody>\n",
              "    <tr>\n",
              "      <th>111357</th>\n",
              "      <td>129356</td>\n",
              "      <td>1613012160000</td>\n",
              "      <td>44801.5</td>\n",
              "      <td>20.977601</td>\n",
              "      <td>1.613012e+09</td>\n",
              "      <td>2021-02-11 02:56:00</td>\n",
              "      <td>129356</td>\n",
              "      <td>39626.371342</td>\n",
              "      <td>38328.538444</td>\n",
              "      <td>39.511185</td>\n",
              "    </tr>\n",
              "    <tr>\n",
              "      <th>111358</th>\n",
              "      <td>129357</td>\n",
              "      <td>1613012220000</td>\n",
              "      <td>44803.0</td>\n",
              "      <td>2.648302</td>\n",
              "      <td>1.613012e+09</td>\n",
              "      <td>2021-02-11 02:57:00</td>\n",
              "      <td>129357</td>\n",
              "      <td>39626.946491</td>\n",
              "      <td>38328.957056</td>\n",
              "      <td>0.102289</td>\n",
              "    </tr>\n",
              "    <tr>\n",
              "      <th>111359</th>\n",
              "      <td>129358</td>\n",
              "      <td>1613012280000</td>\n",
              "      <td>44861.5</td>\n",
              "      <td>4.639193</td>\n",
              "      <td>1.613012e+09</td>\n",
              "      <td>2021-02-11 02:58:00</td>\n",
              "      <td>129358</td>\n",
              "      <td>39627.528075</td>\n",
              "      <td>38329.378611</td>\n",
              "      <td>155.571635</td>\n",
              "    </tr>\n",
              "    <tr>\n",
              "      <th>111360</th>\n",
              "      <td>129359</td>\n",
              "      <td>1613012340000</td>\n",
              "      <td>44829.0</td>\n",
              "      <td>0.518052</td>\n",
              "      <td>1.613012e+09</td>\n",
              "      <td>2021-02-11 02:59:00</td>\n",
              "      <td>129359</td>\n",
              "      <td>39628.105985</td>\n",
              "      <td>38329.802972</td>\n",
              "      <td>47.890791</td>\n",
              "    </tr>\n",
              "    <tr>\n",
              "      <th>111361</th>\n",
              "      <td>129360</td>\n",
              "      <td>1613012400000</td>\n",
              "      <td>44775.0</td>\n",
              "      <td>3.355878</td>\n",
              "      <td>1.613012e+09</td>\n",
              "      <td>2021-02-11 03:00:00</td>\n",
              "      <td>129360</td>\n",
              "      <td>39628.677830</td>\n",
              "      <td>38330.212694</td>\n",
              "      <td>132.404361</td>\n",
              "    </tr>\n",
              "  </tbody>\n",
              "</table>\n",
              "</div>"
            ],
            "text/plain": [
              "         index  UtcUnixTimeInMilliSeconds    Close     Volume   UtcUnixTime  \\\n",
              "111357  129356              1613012160000  44801.5  20.977601  1.613012e+09   \n",
              "111358  129357              1613012220000  44803.0   2.648302  1.613012e+09   \n",
              "111359  129358              1613012280000  44861.5   4.639193  1.613012e+09   \n",
              "111360  129359              1613012340000  44829.0   0.518052  1.613012e+09   \n",
              "111361  129360              1613012400000  44775.0   3.355878  1.613012e+09   \n",
              "\n",
              "                       time    step           EMA           SMA         PNL  \n",
              "111357  2021-02-11 02:56:00  129356  39626.371342  38328.538444   39.511185  \n",
              "111358  2021-02-11 02:57:00  129357  39626.946491  38328.957056    0.102289  \n",
              "111359  2021-02-11 02:58:00  129358  39627.528075  38329.378611  155.571635  \n",
              "111360  2021-02-11 02:59:00  129359  39628.105985  38329.802972   47.890791  \n",
              "111361  2021-02-11 03:00:00  129360  39628.677830  38330.212694  132.404361  "
            ]
          },
          "execution_count": 1,
          "metadata": {}
        }
      ]
    },
    {
      "cell_type": "code",
      "execution_count": 1,
      "metadata": {
        "dotnet_interactive": {
          "language": "csharp"
        }
      },
      "source": [
        "data_PNL.PNL[0]"
      ],
      "outputs": [
        {
          "output_type": "execute_result",
          "data": {
            "text/plain": [
              "45.64117384837682"
            ]
          },
          "execution_count": 1,
          "metadata": {}
        }
      ]
    },
    {
      "cell_type": "markdown",
      "metadata": {},
      "source": [
        "### The idea is to do a comulative sum minus this pseudo maturity "
      ]
    },
    {
      "cell_type": "code",
      "execution_count": 1,
      "metadata": {
        "dotnet_interactive": {
          "language": "csharp"
        }
      },
      "source": [
        "def Cumulative_PNL(data_PNL, theta, days_to_maturity):\n",
        "    cumulative_sum = [data_PNL.PNL[0]]\n",
        "    \n",
        "    for i in range(1, len(data_PNL.time)):\n",
        "        \n",
        "        # (1)\n",
        "        #cumulative_sum.append(data_PNL.PNL[i] + cumulative_sum[i-1] - (days_to_maturity- (int(data_PNL.time[i][8:10]))*theta))\n",
        "        \n",
        "        # (2)\n",
        "        cumulative_sum.append(data_PNL.PNL[i] + cumulative_sum[i-1])\n",
        "    \n",
        "    for i in range(len(data_PNL.time)):\n",
        "        cumulative_sum[i] = cumulative_sum[i] - (days_to_maturity- (int(data_PNL.time[i][8:10]))*theta)\n",
        "        \n",
        "    data_PNL['cumulative_PNL'] = cumulative_sum\n",
        "    return(data_PNL)"
      ],
      "outputs": []
    },
    {
      "cell_type": "markdown",
      "metadata": {},
      "source": [
        "#### I missunderstood something here concerning this : 6. Final Payoff: Sum of P&Li->j minus (Nb of days to maturity x $Θ)\n",
        "\n",
        "\n",
        "\n",
        "If if do it befoe the cumulative so for each step such as bellow '(1)' method I have something absurd\n",
        "\n",
        "If i do it like the (2) so cumulative and then minus the maturity * theta i have something less absurd but tough to say if relevant since i don't understand the strategy..."
      ]
    },
    {
      "cell_type": "code",
      "execution_count": 1,
      "metadata": {
        "dotnet_interactive": {
          "language": "csharp"
        }
      },
      "source": [
        "data_cumu_PNL = Cumulative_PNL(data_PNL, theta, days_to_maturity)"
      ],
      "outputs": []
    },
    {
      "cell_type": "code",
      "execution_count": 1,
      "metadata": {
        "dotnet_interactive": {
          "language": "csharp"
        }
      },
      "source": [
        "plt.figure(figsize=(12.5, 4.5))\n",
        "plt.plot(data_cumu_PNL[\"step\"], data_cumu_PNL['cumulative_PNL'], label='Close', linewidth=1.5)\n",
        "\n",
        "plt.title(\"Cumulative PNL 1m step\")\n",
        "plt.xlabel('Cumulative Step')\n",
        "plt.ylabel('PNL')\n",
        "plt.legend(loc = 'upper left')\n",
        "plt.show()"
      ],
      "outputs": [
        {
          "output_type": "execute_result",
          "data": {
            "image/png": "[encoded data removed]",
            "text/plain": [
              "<Figure size 900x324 with 1 Axes>"
            ]
          },
          "execution_count": 1,
          "metadata": {}
        }
      ]
    },
    {
      "cell_type": "markdown",
      "metadata": {},
      "source": [
        " - For me this result is not relevant and intersting, I might have not understood the \"6. Final Payoff: Sum of P&Li->j minus (Nb of days to maturity x $Θ)\"\n",
        "concept; I cannot predict ,nothing with that : PNL almost always up ....\n",
        "\n",
        " - The PNL i->j looks good to me but I might have make a mistake also there \n",
        " \n",
        " - I have tried other steps for reseting S(i) : the result seems way random "
      ]
    },
    {
      "cell_type": "markdown",
      "metadata": {},
      "source": [
        "## Data analysis : I will focus on PNL i->j to make a small ML model to have something to shocase"
      ]
    },
    {
      "cell_type": "code",
      "execution_count": 1,
      "metadata": {
        "dotnet_interactive": {
          "language": "csharp"
        }
      },
      "source": [
        "data_cumu_PNL.head(2)"
      ],
      "outputs": [
        {
          "output_type": "execute_result",
          "data": {
            "text/html": [
              "<div>\n",
              "<style scoped>\n",
              "    .dataframe tbody tr th:only-of-type {\n",
              "        vertical-align: middle;\n",
              "    }\n",
              "\n",
              "    .dataframe tbody tr th {\n",
              "        vertical-align: top;\n",
              "    }\n",
              "\n",
              "    .dataframe thead th {\n",
              "        text-align: right;\n",
              "    }\n",
              "</style>\n",
              "<table border=\"1\" class=\"dataframe\">\n",
              "  <thead>\n",
              "    <tr style=\"text-align: right;\">\n",
              "      <th></th>\n",
              "      <th>index</th>\n",
              "      <th>UtcUnixTimeInMilliSeconds</th>\n",
              "      <th>Close</th>\n",
              "      <th>Volume</th>\n",
              "      <th>UtcUnixTime</th>\n",
              "      <th>time</th>\n",
              "      <th>step</th>\n",
              "      <th>EMA</th>\n",
              "      <th>SMA</th>\n",
              "      <th>PNL</th>\n",
              "      <th>cumulative_PNL</th>\n",
              "    </tr>\n",
              "  </thead>\n",
              "  <tbody>\n",
              "    <tr>\n",
              "      <th>0</th>\n",
              "      <td>17999</td>\n",
              "      <td>1606330740000</td>\n",
              "      <td>19075.0</td>\n",
              "      <td>6.611942</td>\n",
              "      <td>1.606331e+09</td>\n",
              "      <td>2020-11-25 18:59:00</td>\n",
              "      <td>17999</td>\n",
              "      <td>17951.576787</td>\n",
              "      <td>17664.848722</td>\n",
              "      <td>45.641174</td>\n",
              "      <td>-6.249984e+06</td>\n",
              "    </tr>\n",
              "    <tr>\n",
              "      <th>1</th>\n",
              "      <td>18000</td>\n",
              "      <td>1606330800000</td>\n",
              "      <td>19093.0</td>\n",
              "      <td>5.548899</td>\n",
              "      <td>1.606331e+09</td>\n",
              "      <td>2020-11-25 19:00:00</td>\n",
              "      <td>18000</td>\n",
              "      <td>17951.703604</td>\n",
              "      <td>17665.002472</td>\n",
              "      <td>81.254756</td>\n",
              "      <td>-6.249903e+06</td>\n",
              "    </tr>\n",
              "  </tbody>\n",
              "</table>\n",
              "</div>"
            ],
            "text/plain": [
              "   index  UtcUnixTimeInMilliSeconds    Close    Volume   UtcUnixTime  \\\n",
              "0  17999              1606330740000  19075.0  6.611942  1.606331e+09   \n",
              "1  18000              1606330800000  19093.0  5.548899  1.606331e+09   \n",
              "\n",
              "                  time   step           EMA           SMA        PNL  \\\n",
              "0  2020-11-25 18:59:00  17999  17951.576787  17664.848722  45.641174   \n",
              "1  2020-11-25 19:00:00  18000  17951.703604  17665.002472  81.254756   \n",
              "\n",
              "   cumulative_PNL  \n",
              "0   -6.249984e+06  \n",
              "1   -6.249903e+06  "
            ]
          },
          "execution_count": 1,
          "metadata": {}
        }
      ]
    },
    {
      "cell_type": "code",
      "execution_count": 1,
      "metadata": {
        "dotnet_interactive": {
          "language": "csharp"
        }
      },
      "source": [
        "data_cumu_PNL[['Close', 'Volume', 'cumulative_PNL', 'PNL']].describe()"
      ],
      "outputs": [
        {
          "output_type": "execute_result",
          "data": {
            "text/html": [
              "<div>\n",
              "<style scoped>\n",
              "    .dataframe tbody tr th:only-of-type {\n",
              "        vertical-align: middle;\n",
              "    }\n",
              "\n",
              "    .dataframe tbody tr th {\n",
              "        vertical-align: top;\n",
              "    }\n",
              "\n",
              "    .dataframe thead th {\n",
              "        text-align: right;\n",
              "    }\n",
              "</style>\n",
              "<table border=\"1\" class=\"dataframe\">\n",
              "  <thead>\n",
              "    <tr style=\"text-align: right;\">\n",
              "      <th></th>\n",
              "      <th>Close</th>\n",
              "      <th>Volume</th>\n",
              "      <th>cumulative_PNL</th>\n",
              "      <th>PNL</th>\n",
              "    </tr>\n",
              "  </thead>\n",
              "  <tbody>\n",
              "    <tr>\n",
              "      <th>count</th>\n",
              "      <td>111362.000000</td>\n",
              "      <td>111362.000000</td>\n",
              "      <td>1.113620e+05</td>\n",
              "      <td>111362.000000</td>\n",
              "    </tr>\n",
              "    <tr>\n",
              "      <th>mean</th>\n",
              "      <td>28959.607142</td>\n",
              "      <td>22.802495</td>\n",
              "      <td>1.841018e+07</td>\n",
              "      <td>430.093645</td>\n",
              "    </tr>\n",
              "    <tr>\n",
              "      <th>std</th>\n",
              "      <td>8115.224219</td>\n",
              "      <td>43.280356</td>\n",
              "      <td>1.516046e+07</td>\n",
              "      <td>9611.803321</td>\n",
              "    </tr>\n",
              "    <tr>\n",
              "      <th>min</th>\n",
              "      <td>16237.500000</td>\n",
              "      <td>0.000000</td>\n",
              "      <td>-6.249984e+06</td>\n",
              "      <td>-500569.273189</td>\n",
              "    </tr>\n",
              "    <tr>\n",
              "      <th>25%</th>\n",
              "      <td>19440.500000</td>\n",
              "      <td>3.626781</td>\n",
              "      <td>4.740122e+06</td>\n",
              "      <td>7.213653</td>\n",
              "    </tr>\n",
              "    <tr>\n",
              "      <th>50%</th>\n",
              "      <td>30886.750000</td>\n",
              "      <td>10.059960</td>\n",
              "      <td>1.781777e+07</td>\n",
              "      <td>41.652433</td>\n",
              "    </tr>\n",
              "    <tr>\n",
              "      <th>75%</th>\n",
              "      <td>35450.000000</td>\n",
              "      <td>24.879812</td>\n",
              "      <td>3.127672e+07</td>\n",
              "      <td>165.419965</td>\n",
              "    </tr>\n",
              "    <tr>\n",
              "      <th>max</th>\n",
              "      <td>48266.000000</td>\n",
              "      <td>1818.078071</td>\n",
              "      <td>4.514606e+07</td>\n",
              "      <td>649345.691889</td>\n",
              "    </tr>\n",
              "  </tbody>\n",
              "</table>\n",
              "</div>"
            ],
            "text/plain": [
              "               Close         Volume  cumulative_PNL            PNL\n",
              "count  111362.000000  111362.000000    1.113620e+05  111362.000000\n",
              "mean    28959.607142      22.802495    1.841018e+07     430.093645\n",
              "std      8115.224219      43.280356    1.516046e+07    9611.803321\n",
              "min     16237.500000       0.000000   -6.249984e+06 -500569.273189\n",
              "25%     19440.500000       3.626781    4.740122e+06       7.213653\n",
              "50%     30886.750000      10.059960    1.781777e+07      41.652433\n",
              "75%     35450.000000      24.879812    3.127672e+07     165.419965\n",
              "max     48266.000000    1818.078071    4.514606e+07  649345.691889"
            ]
          },
          "execution_count": 1,
          "metadata": {}
        }
      ]
    },
    {
      "cell_type": "code",
      "execution_count": 1,
      "metadata": {
        "dotnet_interactive": {
          "language": "csharp"
        }
      },
      "source": [
        "data_cumu_PNL[['Close', 'Volume', 'cumulative_PNL', 'PNL']].corr()"
      ],
      "outputs": [
        {
          "output_type": "execute_result",
          "data": {
            "text/html": [
              "<div>\n",
              "<style scoped>\n",
              "    .dataframe tbody tr th:only-of-type {\n",
              "        vertical-align: middle;\n",
              "    }\n",
              "\n",
              "    .dataframe tbody tr th {\n",
              "        vertical-align: top;\n",
              "    }\n",
              "\n",
              "    .dataframe thead th {\n",
              "        text-align: right;\n",
              "    }\n",
              "</style>\n",
              "<table border=\"1\" class=\"dataframe\">\n",
              "  <thead>\n",
              "    <tr style=\"text-align: right;\">\n",
              "      <th></th>\n",
              "      <th>Close</th>\n",
              "      <th>Volume</th>\n",
              "      <th>cumulative_PNL</th>\n",
              "      <th>PNL</th>\n",
              "    </tr>\n",
              "  </thead>\n",
              "  <tbody>\n",
              "    <tr>\n",
              "      <th>Close</th>\n",
              "      <td>1.000000</td>\n",
              "      <td>0.075333</td>\n",
              "      <td>0.901097</td>\n",
              "      <td>0.010637</td>\n",
              "    </tr>\n",
              "    <tr>\n",
              "      <th>Volume</th>\n",
              "      <td>0.075333</td>\n",
              "      <td>1.000000</td>\n",
              "      <td>0.036893</td>\n",
              "      <td>0.058802</td>\n",
              "    </tr>\n",
              "    <tr>\n",
              "      <th>cumulative_PNL</th>\n",
              "      <td>0.901097</td>\n",
              "      <td>0.036893</td>\n",
              "      <td>1.000000</td>\n",
              "      <td>0.005669</td>\n",
              "    </tr>\n",
              "    <tr>\n",
              "      <th>PNL</th>\n",
              "      <td>0.010637</td>\n",
              "      <td>0.058802</td>\n",
              "      <td>0.005669</td>\n",
              "      <td>1.000000</td>\n",
              "    </tr>\n",
              "  </tbody>\n",
              "</table>\n",
              "</div>"
            ],
            "text/plain": [
              "                   Close    Volume  cumulative_PNL       PNL\n",
              "Close           1.000000  0.075333        0.901097  0.010637\n",
              "Volume          0.075333  1.000000        0.036893  0.058802\n",
              "cumulative_PNL  0.901097  0.036893        1.000000  0.005669\n",
              "PNL             0.010637  0.058802        0.005669  1.000000"
            ]
          },
          "execution_count": 1,
          "metadata": {}
        }
      ]
    },
    {
      "cell_type": "code",
      "execution_count": 1,
      "metadata": {
        "dotnet_interactive": {
          "language": "csharp"
        }
      },
      "source": [
        "data_cumu_PNL[['Close', 'Volume', 'cumulative_PNL', 'PNL']].skew()"
      ],
      "outputs": [
        {
          "output_type": "execute_result",
          "data": {
            "text/plain": [
              "Close              0.063880\n",
              "Volume             8.704280\n",
              "cumulative_PNL     0.211649\n",
              "PNL               37.980539\n",
              "dtype: float64"
            ]
          },
          "execution_count": 1,
          "metadata": {}
        }
      ]
    },
    {
      "cell_type": "markdown",
      "metadata": {},
      "source": [
        "## Ok let's invent a fake 'ML' problem based on PNL i->j \n",
        "\n",
        "- What to predict : let's say we have fees so we want to do the pseudo trade when the PNL i->j is > 50$ (for fees issue right?)"
      ]
    },
    {
      "cell_type": "code",
      "execution_count": 1,
      "metadata": {
        "dotnet_interactive": {
          "language": "csharp"
        }
      },
      "source": [
        "output = []\n",
        "\n",
        "for i in range(len(data_cumu_PNL)):\n",
        "    if data_cumu_PNL.PNL[i]>50:\n",
        "        output.append(1)\n",
        "        \n",
        "    else : \n",
        "        output.append(0)\n",
        "    \n",
        "data_cumu_PNL['output'] = output        "
      ],
      "outputs": []
    },
    {
      "cell_type": "code",
      "execution_count": 1,
      "metadata": {
        "dotnet_interactive": {
          "language": "csharp"
        }
      },
      "source": [
        "data_cumu_PNL.output.value_counts()"
      ],
      "outputs": [
        {
          "output_type": "execute_result",
          "data": {
            "text/plain": [
              "0    59314\n",
              "1    52048\n",
              "Name: output, dtype: int64"
            ]
          },
          "execution_count": 1,
          "metadata": {}
        }
      ]
    },
    {
      "cell_type": "markdown",
      "metadata": {},
      "source": [
        "My idea : \n",
        "    - classification problem (up or down)\n",
        "    - inputs : \n",
        "        - volume (std scale)\n",
        "        - add moving average (above bellow labelled 0 and 1)\n",
        "        - compute volatility and scale it on x periods\n",
        "        - try other indicator for sure well processed\n",
        "    - model : grid seach on a SVC more chance to have this model work (seems to be non linear)\n",
        "    - split train / test : draw first conclusions"
      ]
    },
    {
      "cell_type": "code",
      "execution_count": 1,
      "metadata": {
        "dotnet_interactive": {
          "language": "csharp"
        }
      },
      "source": [
        ""
      ],
      "outputs": []
    },
    {
      "cell_type": "code",
      "execution_count": 1,
      "metadata": {
        "dotnet_interactive": {
          "language": "csharp"
        }
      },
      "source": [
        ""
      ],
      "outputs": []
    },
    {
      "cell_type": "markdown",
      "metadata": {},
      "source": [
        "## the end"
      ]
    },
    {
      "cell_type": "code",
      "execution_count": 1,
      "metadata": {
        "dotnet_interactive": {
          "language": "csharp"
        }
      },
      "source": [
        ""
      ],
      "outputs": []
    }
  ],
  "metadata": {
    "kernelspec": {
      "display_name": ".NET (C#)",
      "language": "C#",
      "name": ".net-csharp"
    },
    "language_info": {
      "file_extension": ".cs",
      "mimetype": "text/x-csharp",
      "name": "C#",
      "pygments_lexer": "csharp",
      "version": "8.0"
    }
  },
  "nbformat": 4,
  "nbformat_minor": 4
}